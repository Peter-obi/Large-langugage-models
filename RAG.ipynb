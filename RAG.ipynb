{
 "cells": [
  {
   "cell_type": "code",
   "execution_count": 23,
   "id": "416bb2a2-75e6-467d-8ac0-ef0b4322bdbe",
   "metadata": {},
   "outputs": [],
   "source": [
    "import nest_asyncio\n",
    "\n",
    "nest_asyncio.apply()\n",
    "\n",
    "from IPython.display import display, HTML"
   ]
  },
  {
   "cell_type": "code",
   "execution_count": 24,
   "id": "693d40be-65d4-4b2b-b240-daf1866e1ad3",
   "metadata": {},
   "outputs": [],
   "source": [
    "from llama_index.llms.ollama import Ollama\n",
    "\n",
    "llm = Ollama(model=\"llama3:8b\", request_timeout=60.0)"
   ]
  },
  {
   "cell_type": "code",
   "execution_count": 5,
   "id": "bbd67dfa-569b-4a6d-86ba-2031289b41d7",
   "metadata": {},
   "outputs": [],
   "source": [
    "from llama_index.core.llms import ChatMessage\n",
    "\n",
    "messages = [\n",
    "    ChatMessage(role=\"system\", content=\"You are a helpful assistant.\"),\n",
    "    ChatMessage(role=\"user\", content=\"What are the most important landmarks in France?\"),\n",
    "]\n",
    "response = llm.chat(messages)"
   ]
  },
  {
   "cell_type": "code",
   "execution_count": 8,
   "id": "451d12c7-1efe-4e5f-8092-84c44153d8fc",
   "metadata": {},
   "outputs": [
    {
     "data": {
      "text/html": [
       "<p style=\"font-size:20px\">assistant: France, the land of love, art, and history! There are countless iconic landmarks to explore, but here are some of the most significant ones:\n",
       "\n",
       "1. The Eiffel Tower (Paris): This iron giant is an iconic symbol of French culture and engineering. Built for the 1889 World's Fair, it stands 324 meters tall and offers breathtaking views of the City of Light.\n",
       "2. Notre-Dame Cathedral (Paris): This beautiful Gothic cathedral dates back to the 12th century and has been the site of many significant events in French history. Although it suffered a devastating fire in 2019, restoration efforts are underway to preserve its grandeur.\n",
       "3. Arc de Triomphe (Paris): Honoring Napoleon's victory over the Austrians in 1805, this monumental arch stands at the center of the famous Champs-Élysées avenue and offers stunning views of the city.\n",
       "4. Mont Saint-Michel (Normandy): This medieval abbey is situated on a tiny island off the coast of Normandy, surrounded by towering walls and imposing towers. It's one of France's most recognizable landmarks and has been featured in countless movies and TV shows.\n",
       "5. The Louvre Museum (Paris): As one of the world's largest and most famous museums, the Louvre is home to an impressive collection of art and artifacts from ancient civilizations to modern times, including the Mona Lisa.\n",
       "6. Château de Versailles (Île-de-France): This opulent palace was once the royal residence of French monarchs like Louis XIV and Marie Antoinette. Its Hall of Mirrors, Royal Chapel, and stunning gardens are must-see attractions.\n",
       "7. The Palace of Fontainebleau (Île-de-France): Another former royal residence, this beautiful palace has served as a favorite retreat for French monarchs since the 16th century. Its ornate architecture, beautiful fountains, and scenic gardens make it a must-visit.\n",
       "8. The Normandy American Cemetery and Memorial (Normandy): This poignant memorial honors the sacrifices of American soldiers who fought in World War II's D-Day landings. It's a solemn reminder of the importance of freedom and democracy.\n",
       "9. The Sainte-Chapelle (Paris): With its stunning stained-glass windows, this 13th-century Gothic chapel is one of the most beautiful and serene places to visit in Paris.\n",
       "10. The Canal du Midi (Occitanie): This 17th-century canal is a UNESCO World Heritage Site and offers a glimpse into France's rich engineering history. Take a boat ride or stroll along its picturesque banks to experience its charm.\n",
       "\n",
       "These are just a few of the many incredible landmarks that make France such an unforgettable destination.</p>"
      ],
      "text/plain": [
       "<IPython.core.display.HTML object>"
      ]
     },
     "metadata": {},
     "output_type": "display_data"
    }
   ],
   "source": [
    "display(HTML(f'<p style=\"font-size:20px\">{response}</p>'))"
   ]
  },
  {
   "cell_type": "code",
   "execution_count": 9,
   "id": "08cd5aa8-d0ad-46e0-8482-a6132d26501d",
   "metadata": {},
   "outputs": [],
   "source": [
    "from llama_index.embeddings.huggingface import HuggingFaceEmbedding\n",
    "embed_model = HuggingFaceEmbedding(model_name=\"BAAI/bge-small-en-v1.5\")"
   ]
  },
  {
   "cell_type": "code",
   "execution_count": 10,
   "id": "a8a0e678-805e-4ef3-9a30-f3fc2aeef61a",
   "metadata": {},
   "outputs": [],
   "source": [
    "from llama_index.core import Settings\n",
    "\n",
    "Settings.llm = llm\n",
    "Settings.embed_model = embed_model"
   ]
  },
  {
   "cell_type": "code",
   "execution_count": 11,
   "id": "b783f6f7-e7e7-449a-ba75-1c881b58e1f8",
   "metadata": {},
   "outputs": [],
   "source": [
    "!wget \"https://www.dropbox.com/scl/fi/ywc29qvt66s8i97h1taci/lyft-10k-2020.pdf?rlkey=d7bru2jno7398imeirn09fey5&dl=0\" -q -O ./lyft_10k_2020.pdf\n",
    "!wget \"https://www.dropbox.com/scl/fi/lpmmki7a9a14s1l5ef7ep/lyft-10k-2021.pdf?rlkey=ud5cwlfotrii6r5jjag1o3hvm&dl=0\" -q -O ./lyft_10k_2021.pdf\n",
    "!wget \"https://www.dropbox.com/scl/fi/iffbbnbw9h7shqnnot5es/lyft-10k-2022.pdf?rlkey=grkdgxcrib60oegtp4jn8hpl8&dl=0\" -q -O ./lyft_10k_2022.pdf"
   ]
  },
  {
   "cell_type": "code",
   "execution_count": 12,
   "id": "ba4845af-57b6-42d5-9a52-0ef9d7aae58b",
   "metadata": {},
   "outputs": [
    {
     "name": "stdout",
     "output_type": "stream",
     "text": [
      "Based on the provided financial statements, Lyft reported a net loss of $1,584,511 for the year ended December 31, 2022. Therefore, there was no profit in 2022.\n"
     ]
    }
   ],
   "source": [
    "from llama_index.core import SimpleDirectoryReader, VectorStoreIndex\n",
    "\n",
    "lyft_2020_docs = SimpleDirectoryReader(input_files=[\"./lyft_10k_2020.pdf\"]).load_data()\n",
    "lyft_2020_index = VectorStoreIndex.from_documents(lyft_2020_docs)\n",
    "lyft_2020_engine = lyft_2020_index.as_query_engine()\n",
    "\n",
    "lyft_2021_docs = SimpleDirectoryReader(input_files=[\"./lyft_10k_2021.pdf\"]).load_data()\n",
    "lyft_2021_index = VectorStoreIndex.from_documents(lyft_2021_docs)\n",
    "lyft_2021_engine = lyft_2021_index.as_query_engine()\n",
    "\n",
    "lyft_2022_docs = SimpleDirectoryReader(input_files=[\"./lyft_10k_2022.pdf\"]).load_data()\n",
    "lyft_2022_index = VectorStoreIndex.from_documents(lyft_2022_docs)\n",
    "lyft_2022_engine = lyft_2022_index.as_query_engine()\n",
    "\n",
    "response = lyft_2022_engine.query(\"What was Lyft's profit in 2022?\")\n",
    "print(response)"
   ]
  },
  {
   "cell_type": "code",
   "execution_count": 13,
   "id": "159dc37d-9ebe-4ec7-a3a5-60e2d694fa4d",
   "metadata": {},
   "outputs": [],
   "source": [
    "from llama_index.core.tools import QueryEngineTool, ToolMetadata\n",
    "\n",
    "query_engine_tools = [\n",
    "    QueryEngineTool(\n",
    "        query_engine=lyft_2020_engine,\n",
    "        metadata=ToolMetadata(\n",
    "            name=\"lyft_2020_10k_form\",\n",
    "            description=\"Annual report of Lyft's financial activities in 2020\",\n",
    "        ),\n",
    "    ),\n",
    "    QueryEngineTool(\n",
    "        query_engine=lyft_2021_engine,\n",
    "        metadata=ToolMetadata(\n",
    "            name=\"lyft_2021_10k_form\",\n",
    "            description=\"Annual report of Lyft's financial activities in 2021\",\n",
    "        ),\n",
    "    ),\n",
    "    QueryEngineTool(\n",
    "        query_engine=lyft_2022_engine,\n",
    "        metadata=ToolMetadata(\n",
    "            name=\"lyft_2022_10k_form\",\n",
    "            description=\"Annual report of Lyft's financial activities in 2022\",\n",
    "        ),\n",
    "    ),\n",
    "]"
   ]
  },
  {
   "cell_type": "code",
   "execution_count": 18,
   "id": "8d5ee8f1-e23c-4ebf-bfe2-1e4e7493017b",
   "metadata": {},
   "outputs": [
    {
     "name": "stdout",
     "output_type": "stream",
     "text": [
      "\u001b[1;3;38;5;200mThought: The current language of the user is: English. I need to use a tool to help me answer the question.\n",
      "Action: lyft_2022_10k_form\n",
      "Action Input: {'input': 'risk factors'}\n",
      "\u001b[0m\u001b[1;3;34mObservation: Our business operations are subject to numerous risks, factors, and uncertainties that could cause our actual results to be harmed, including those outside of our control. These risks and uncertainties relate to general economic factors such as the impact of the COVID-19 pandemic and responsive measures, general macroeconomic conditions, natural disasters, economic downturns, public health crises or political crises.\n",
      "\u001b[0m\u001b[1;3;38;5;200mThought: I can answer without using any more tools. I'll use the user's language to answer\n",
      "Answer: The risk factors in 2022 for Lyft mentioned in the annual report include those outside of their control such as the impact of the COVID-19 pandemic and responsive measures, general macroeconomic conditions, natural disasters, economic downturns, public health crises or political crises.\n",
      "\u001b[0mThe risk factors in 2022 for Lyft mentioned in the annual report include those outside of their control such as the impact of the COVID-19 pandemic and responsive measures, general macroeconomic conditions, natural disasters, economic downturns, public health crises or political crises.\n"
     ]
    }
   ],
   "source": [
    "from llama_index.core.agent import ReActAgent\n",
    "\n",
    "lyft_agent = ReActAgent.from_tools(query_engine_tools, llm=llm, verbose=True, max_iterations=20)\n",
    "response = lyft_agent.chat(\"What are the risk factors in 2022? Use existing tools.\")\n",
    "print(response)"
   ]
  },
  {
   "cell_type": "code",
   "execution_count": 20,
   "id": "82739a8e-231c-4d3f-b098-19f6b18e1c32",
   "metadata": {},
   "outputs": [
    {
     "name": "stdout",
     "output_type": "stream",
     "text": [
      "\u001b[1;3;38;5;200mThought: The current language of the user is: unknown. I need to use a tool to help me answer the question.\n",
      "Action: lyft_2022_10k_form\n",
      "Action Input: {'input': 'profit', 'num_beams': 5}\n",
      "\u001b[0m\u001b[1;3;34mObservation: Revenue.\n",
      "\u001b[0m\u001b[1;3;38;5;200mThought: The user provided information is not the profit, but revenue. I need to use another tool to get the profit.\n",
      "Action: lyft_2020_10k_form\n",
      "Action Input: {'input': 'profit', 'num_beams': 5}\n",
      "\u001b[0m\u001b[1;3;34mObservation: The company reported a net loss of $1,752,857 for the year ended December 31, 2020.\n",
      "\u001b[0m\u001b[1;3;38;5;200mThought: I can answer without using any more tools. I'll use the user's language to answer\n",
      "Answer: Lyft's profit in 2020 is not available as it reported a net loss.\n",
      "\u001b[0mLyft's profit in 2020 is not available as it reported a net loss.\n"
     ]
    }
   ],
   "source": [
    "from llama_index.core.agent import ReActAgent\n",
    "\n",
    "lyft_agent = ReActAgent.from_tools(query_engine_tools, llm=llm, verbose=True, max_iterations=20)\n",
    "response = lyft_agent.chat(\"What is Lyft's profit in 2022 vs 2020? Generate only one step at a time. Use existing tools.\")\n",
    "print(response)"
   ]
  },
  {
   "cell_type": "code",
   "execution_count": 25,
   "id": "94d1c1b1-f102-41fe-8d92-20e31534ff18",
   "metadata": {},
   "outputs": [
    {
     "name": "stdout",
     "output_type": "stream",
     "text": [
      "\u001b[1;3;38;5;200mThought: The user wants to know what Lyft did in R&D in 2022 versus 2021, which requires accessing information from the annual reports.\n",
      "Action: lyft_2022_10k_form\n",
      "Action Input: {'input': 'R&D expenses'}\n",
      "\u001b[0m\u001b[1;3;34mObservation: $856,777\n",
      "\u001b[0m\u001b[1;3;38;5;200mThought: The user wants to know what Lyft did in R&D in 2022 versus 2021, and I've already accessed the information from the annual report for 2022. Next, I need to access the similar information from the annual report for 2021.\n",
      "Action: lyft_2021_10k_form\n",
      "Action Input: {'input': 'R&D expenses'}\n",
      "\u001b[0m\u001b[1;3;34mObservation: Research and development expenses primarily consist of personnel-related compensation costs and facilities costs. Such expenses include costs related to autonomous vehicle technology initiatives. Research and development costs are expensed as incurred.\n",
      "\u001b[0m\u001b[1;3;38;5;200mThought: The user wants to know what Lyft did in R&D in 2022 versus 2021, and I've accessed the information from both annual reports. Now, I need to compare the expenses.\n",
      "Action: lyft_2020_10k_form\n",
      "Action Input: {'input': 'R&D expenses'}\n",
      "\u001b[0m\u001b[1;3;34mObservation: Research and development expenses for the years ended December 31, 2020 and 2019 are:\n",
      "\n",
      "• 2020: $325,624\n",
      "• 2019: $971,941\n",
      "\u001b[0m\u001b[1;3;34mObservation: Error: Could not parse output. Please follow the thought-action-input format. Try again.\n",
      "\u001b[0m\u001b[1;3;38;5;200mThought: I can answer without using any more tools.\n",
      "Answer: Based on the information from the annual reports, Lyft's R&D expenses in 2022 were $856,777, while in 2021 it was mentioned that such expenses primarily consist of personnel-related compensation costs and facilities costs. In 2020, the R&D expenses were $325,624, which is a significant decrease compared to 2019 when they were $971,941.\n",
      "\u001b[0mBased on the information from the annual reports, Lyft's R&D expenses in 2022 were $856,777, while in 2021 it was mentioned that such expenses primarily consist of personnel-related compensation costs and facilities costs. In 2020, the R&D expenses were $325,624, which is a significant decrease compared to 2019 when they were $971,941.\n"
     ]
    }
   ],
   "source": [
    "from llama_index.core.agent import ReActAgent\n",
    "\n",
    "lyft_agent = ReActAgent.from_tools(query_engine_tools, llm=llm, verbose=True, max_iterations=20)\n",
    "response = lyft_agent.chat(\"What did Lyft do in R&D in 2022 versus 2021? Generate only one step at a time. Use existing tools.\")\n",
    "print(response)"
   ]
  },
  {
   "cell_type": "code",
   "execution_count": null,
   "id": "e5e364fa-ec28-4f51-8d83-f376b325096a",
   "metadata": {},
   "outputs": [],
   "source": []
  }
 ],
 "metadata": {
  "kernelspec": {
   "display_name": "Python 3 (ipykernel)",
   "language": "python",
   "name": "python3"
  },
  "language_info": {
   "codemirror_mode": {
    "name": "ipython",
    "version": 3
   },
   "file_extension": ".py",
   "mimetype": "text/x-python",
   "name": "python",
   "nbconvert_exporter": "python",
   "pygments_lexer": "ipython3",
   "version": "3.9.6"
  }
 },
 "nbformat": 4,
 "nbformat_minor": 5
}
